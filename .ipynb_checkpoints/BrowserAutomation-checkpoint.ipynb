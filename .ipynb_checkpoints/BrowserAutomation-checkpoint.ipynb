{
 "cells": [
  {
   "cell_type": "markdown",
   "metadata": {},
   "source": [
    "# Browser Automation"
   ]
  },
  {
   "cell_type": "code",
   "execution_count": 1,
   "metadata": {},
   "outputs": [],
   "source": [
    "import glob\n",
    "import pandas as pd\n",
    "from lxml import html\n",
    "from selenium import webdriver\n",
    "from selenium import webdriver\n",
    "from selenium.webdriver.support.ui import WebDriverWait\n",
    "from selenium.webdriver.support import expected_conditions as EC\n",
    "from selenium.webdriver.common.by import By\n",
    "from selenium.webdriver.chrome.options import Options\n",
    "from selenium.common.exceptions import TimeoutException"
   ]
  },
  {
   "cell_type": "code",
   "execution_count": 2,
   "metadata": {},
   "outputs": [
    {
     "name": "stdout",
     "output_type": "stream",
     "text": [
      "      Make       Model  Year  Found  numVehs  numRecalls\n",
      "0    Acura         RDX  2020  False        0           0\n",
      "1     Audi          A3  2006  False        0           0\n",
      "2     Audi          A6  2020  False        0           0\n",
      "3     Audi          Q5  2018  False        0           0\n",
      "4      BMW  128i Coupe  2009  False        0           0\n",
      "..     ...         ...   ...    ...      ...         ...\n",
      "234  Volvo         S40  2005  False        0           0\n",
      "235  Volvo         S60  2006  False        0           0\n",
      "236  Volvo         S60  2011  False        0           0\n",
      "237  Volvo        XC60  2010  False        0           0\n",
      "238  Volvo        XC90  2007  False        0           0\n",
      "\n",
      "[239 rows x 6 columns]\n"
     ]
    }
   ],
   "source": [
    "pathCSV = \"mmy.csv\"\n",
    "recallDf = pd.read_csv(pathCSV)\n",
    "recallDf['Found'] = False\n",
    "recallDf['numVehs'] = 0\n",
    "recallDf['numRecalls'] = 0\n",
    "print(recallDf)\n"
   ]
  },
  {
   "cell_type": "code",
   "execution_count": 3,
   "metadata": {},
   "outputs": [],
   "source": [
    "def singleVehSaver(idx, url, folderName=\"singleVehHTMLs\", mod_numVeh=True):\n",
    "    recall_name = \"_\".join(url.split(\"#\")[0].split(\"/\")[4:])\n",
    "    print(f\"Accessing website: {url}\")\n",
    "    browser.get(url)\n",
    "    timeout = 10\n",
    "    try:\n",
    "        page_present = EC.presence_of_element_located((By.ID, 'recalls'))\n",
    "        WebDriverWait(browser, timeout).until(page_present)\n",
    "        print (\"Webpage is loaded\")                                \n",
    "    except TimeoutException:\n",
    "        print (\"Timed out waiting for page to load.\")\n",
    "        return 0    \n",
    "    if mod_numVeh:\n",
    "        recallDf.at[idx, 'numVehs'] = 1 \n",
    "    htmlstring = browser.page_source\n",
    "    with open(f'./{folderName}/{idx}_{recall_name}.html', \"w\") as file:\n",
    "        file.write(htmlstring)\n",
    "    return 1\n"
   ]
  },
  {
   "cell_type": "code",
   "execution_count": 4,
   "metadata": {},
   "outputs": [],
   "source": [
    "def singleVehParser(htmlPath, recallDf):\n",
    "    with open(htmlPath, \"r\") as file:\n",
    "        tree = html.fromstring(file.read())\n",
    "    idx = int(htmlPath.split(\"/\")[-1].split(\"_\")[0])\n",
    "    recallstrList = tree.xpath('//*[@id=\"recalls\"]//text()')\n",
    "    if len(recallstrList)>0:\n",
    "        recallDf.at[idx, 'Found'] = True\n",
    "        recallDf.at[idx, 'numRecalls'] = int(recallstrList[1][0])\n",
    "        \n"
   ]
  },
  {
   "cell_type": "code",
   "execution_count": 5,
   "metadata": {},
   "outputs": [],
   "source": [
    "def multiVehSaver(idx, recall, recallDf):\n",
    "    recall_name = f\"{idx}_{recall.Year}_{recall.Make}_{recall.Model}]\"\n",
    "    url = f\"https://www.nhtsa.gov/vehicle/{recall.Year}/{recall.Make}/{recall.Model}\"\n",
    "    print(f\"Accessing website: {url}\")\n",
    "    browser.get(url)\n",
    "    timeout = 15\n",
    "    try:\n",
    "        page_present = EC.presence_of_element_located((By.ID, 'block-nhtsa-content'))\n",
    "        WebDriverWait(browser, timeout).until(page_present)\n",
    "                                                       \n",
    "    except TimeoutException:\n",
    "        print (\"Timed out waiting for page to load.\")\n",
    "        \n",
    "    htmlstring = browser.page_source\n",
    "    \n",
    "    nameStr = browser.find_element(\"xpath\", '//*[@id=\"block-nhtsa-content\"]/div[4]').text\n",
    "    safetyLoc = [i for i,x in enumerate(nameStr.split(\"\\n\")) if x==\"OVERALL SAFETY RATING\"]\n",
    "    recallDf.at[idx, 'numVehs'] = len(safetyLoc)\n",
    "\n",
    "    print(f\"There are {len(safetyLoc)} types of vehicles\")\n",
    "    for s_idx in safetyLoc:\n",
    "        name1 = nameStr.split(\"\\n\")[s_idx - 1].split(\" \")[0] + \"/\" + \" \".join(nameStr.split(\"\\n\")[s_idx - 1].split(\" \")[1:])\n",
    "        name2 = \" \".join(nameStr.split(\"\\n\")[s_idx - 1].split(\" \")[:-1]) + \"/\" + nameStr.split(\"\\n\")[s_idx - 1].split(\" \")[-1] \n",
    "        print(name1)\n",
    "        print(name2)\n",
    "        url_new1 = f\"{url}/{name1}#recalls\"\n",
    "        url_new2 = f\"{url}/{name2}#recalls\"\n",
    "        singleVehSaver(idx, url_new1, folderName=\"multiVehHTMLs\", mod_numVeh=False)\n",
    "        singleVehSaver(idx, url_new2, folderName=\"multiVehHTMLs\", mod_numVeh=False)\n"
   ]
  },
  {
   "cell_type": "code",
   "execution_count": 6,
   "metadata": {},
   "outputs": [
    {
     "name": "stdout",
     "output_type": "stream",
     "text": [
      "Accessing website: https://www.nhtsa.gov/vehicle/2020/Acura/RDX#recalls\n",
      "Timed out waiting for page to load.\n",
      "Accessing website: https://www.nhtsa.gov/vehicle/2006/Audi/A3#recalls\n",
      "Webpage is loaded\n",
      "Accessing website: https://www.nhtsa.gov/vehicle/2020/Audi/A6#recalls\n",
      "Timed out waiting for page to load.\n"
     ]
    }
   ],
   "source": [
    "chrome_options = Options()\n",
    "chrome_options.add_experimental_option(\"detach\", True)\n",
    "browser=webdriver.Chrome(options=chrome_options)\n",
    "for idx, recall in recallDf.head(3).iterrows():\n",
    "    url = f\"https://www.nhtsa.gov/vehicle/{recall.Year}/{recall.Make}/{recall.Model}#recalls\"\n",
    "    singleVehSaver(idx, url)\n"
   ]
  },
  {
   "cell_type": "code",
   "execution_count": 7,
   "metadata": {},
   "outputs": [
    {
     "name": "stdout",
     "output_type": "stream",
     "text": [
      "      Make     Model  Year  Found  numVehs  numRecalls\n",
      "1     Audi        A3  2006   True        1           4\n",
      "9      BMW        X3  2004   True        0           2\n",
      "10     BMW        i3  2016   True        0           2\n",
      "13   Buick  Envision  2017   True        0           4\n",
      "14   Buick  LaCrosse  2010   True        0           2\n",
      "..     ...       ...   ...    ...      ...         ...\n",
      "234  Volvo       S40  2005   True        0           3\n",
      "235  Volvo       S60  2006   True        0           4\n",
      "236  Volvo       S60  2011   True        0           6\n",
      "237  Volvo      XC60  2010   True        0           7\n",
      "238  Volvo      XC90  2007   True        0           2\n",
      "\n",
      "[107 rows x 6 columns]\n"
     ]
    }
   ],
   "source": [
    "htmlFiles = sorted(glob.glob('./singleVehHTMLs/*.html'))\n",
    "for name in htmlFiles:\n",
    "    singleVehParser(name, recallDf)\n",
    "print(recallDf.loc[recallDf[\"Found\"]])"
   ]
  },
  {
   "cell_type": "code",
   "execution_count": null,
   "metadata": {},
   "outputs": [
    {
     "name": "stdout",
     "output_type": "stream",
     "text": [
      "Accessing website: https://www.nhtsa.gov/vehicle/2020/Acura/RDX\n",
      "There are 2 types of vehicles\n",
      "SUV/FWD\n",
      "SUV/FWD\n",
      "Accessing website: https://www.nhtsa.gov/vehicle/2020/Acura/RDX/SUV/FWD#recalls\n",
      "Webpage is loaded\n",
      "Accessing website: https://www.nhtsa.gov/vehicle/2020/Acura/RDX/SUV/FWD#recalls\n",
      "Webpage is loaded\n",
      "SUV/AWD\n",
      "SUV/AWD\n",
      "Accessing website: https://www.nhtsa.gov/vehicle/2020/Acura/RDX/SUV/AWD#recalls\n",
      "Webpage is loaded\n",
      "Accessing website: https://www.nhtsa.gov/vehicle/2020/Acura/RDX/SUV/AWD#recalls\n",
      "Webpage is loaded\n",
      "Accessing website: https://www.nhtsa.gov/vehicle/2020/Audi/A6\n",
      "There are 2 types of vehicles\n",
      "4/DR FWD\n",
      "4 DR/FWD\n",
      "Accessing website: https://www.nhtsa.gov/vehicle/2020/Audi/A6/4/DR FWD#recalls\n",
      "Timed out waiting for page to load.\n",
      "Accessing website: https://www.nhtsa.gov/vehicle/2020/Audi/A6/4 DR/FWD#recalls\n",
      "Webpage is loaded\n",
      "4/DR AWD\n",
      "4 DR/AWD\n",
      "Accessing website: https://www.nhtsa.gov/vehicle/2020/Audi/A6/4/DR AWD#recalls\n",
      "Timed out waiting for page to load.\n",
      "Accessing website: https://www.nhtsa.gov/vehicle/2020/Audi/A6/4 DR/AWD#recalls\n",
      "Webpage is loaded\n",
      "Accessing website: https://www.nhtsa.gov/vehicle/2018/Audi/Q5\n",
      "There are 2 types of vehicles\n",
      "SUV/AWD\n",
      "SUV/AWD\n",
      "Accessing website: https://www.nhtsa.gov/vehicle/2018/Audi/Q5/SUV/AWD#recalls\n",
      "Webpage is loaded\n",
      "Accessing website: https://www.nhtsa.gov/vehicle/2018/Audi/Q5/SUV/AWD#recalls\n",
      "Webpage is loaded\n",
      "SUV/AWD Later Release\n",
      "SUV AWD Later/Release\n",
      "Accessing website: https://www.nhtsa.gov/vehicle/2018/Audi/Q5/SUV/AWD Later Release#recalls\n",
      "Webpage is loaded\n",
      "Accessing website: https://www.nhtsa.gov/vehicle/2018/Audi/Q5/SUV AWD Later/Release#recalls\n",
      "Timed out waiting for page to load.\n",
      "Accessing website: https://www.nhtsa.gov/vehicle/2009/BMW/128i Coupe\n",
      "There are 0 types of vehicles\n",
      "Accessing website: https://www.nhtsa.gov/vehicle/2016/BMW/320i\n",
      "There are 0 types of vehicles\n",
      "Accessing website: https://www.nhtsa.gov/vehicle/2008/BMW/328i\n",
      "There are 0 types of vehicles\n",
      "Accessing website: https://www.nhtsa.gov/vehicle/2007/BMW/Mini Cooper\n",
      "There are 0 types of vehicles\n",
      "Accessing website: https://www.nhtsa.gov/vehicle/2015/BMW/Mini Cooper\n",
      "There are 0 types of vehicles\n",
      "Accessing website: https://www.nhtsa.gov/vehicle/2013/Buick/Encore\n",
      "There are 2 types of vehicles\n",
      "SUV/FWD\n",
      "SUV/FWD\n",
      "Accessing website: https://www.nhtsa.gov/vehicle/2013/Buick/Encore/SUV/FWD#recalls\n",
      "Timed out waiting for page to load.\n",
      "Accessing website: https://www.nhtsa.gov/vehicle/2013/Buick/Encore/SUV/FWD#recalls\n",
      "Webpage is loaded\n",
      "SUV/AWD\n",
      "SUV/AWD\n",
      "Accessing website: https://www.nhtsa.gov/vehicle/2013/Buick/Encore/SUV/AWD#recalls\n",
      "Timed out waiting for page to load.\n",
      "Accessing website: https://www.nhtsa.gov/vehicle/2013/Buick/Encore/SUV/AWD#recalls\n",
      "Webpage is loaded\n",
      "Accessing website: https://www.nhtsa.gov/vehicle/2020/Buick/Encore\n",
      "There are 2 types of vehicles\n",
      "SUV/FWD\n",
      "SUV/FWD\n",
      "Accessing website: https://www.nhtsa.gov/vehicle/2020/Buick/Encore/SUV/FWD#recalls\n",
      "Webpage is loaded\n",
      "Accessing website: https://www.nhtsa.gov/vehicle/2020/Buick/Encore/SUV/FWD#recalls\n",
      "Webpage is loaded\n",
      "SUV/AWD\n",
      "SUV/AWD\n",
      "Accessing website: https://www.nhtsa.gov/vehicle/2020/Buick/Encore/SUV/AWD#recalls\n",
      "Webpage is loaded\n",
      "Accessing website: https://www.nhtsa.gov/vehicle/2020/Buick/Encore/SUV/AWD#recalls\n",
      "Webpage is loaded\n"
     ]
    }
   ],
   "source": [
    "otherDf = recallDf.loc[recallDf[\"Found\"]==False]\n",
    "chrome_options = Options()\n",
    "chrome_options.add_experimental_option(\"detach\", True)\n",
    "\n",
    "for idx, recall in otherDf.head(20).iterrows():\n",
    "    browser=webdriver.Chrome(options=chrome_options)\n",
    "    multiVehSaver(idx, recall, recallDf)\n",
    "    browser.close()"
   ]
  },
  {
   "cell_type": "code",
   "execution_count": null,
   "metadata": {},
   "outputs": [],
   "source": [
    "htmlFiles = sorted(glob.glob('./multiVehHTMLs/*.html'))\n",
    "for name in htmlFiles:\n",
    "    singleVehParser(name, recallDf)"
   ]
  },
  {
   "cell_type": "code",
   "execution_count": null,
   "metadata": {},
   "outputs": [],
   "source": [
    "print(recallDf.loc[recallDf[\"Found\"]])"
   ]
  },
  {
   "cell_type": "code",
   "execution_count": null,
   "metadata": {},
   "outputs": [],
   "source": []
  }
 ],
 "metadata": {
  "kernelspec": {
   "display_name": "Python 3",
   "language": "python",
   "name": "python3"
  },
  "language_info": {
   "codemirror_mode": {
    "name": "ipython",
    "version": 3
   },
   "file_extension": ".py",
   "mimetype": "text/x-python",
   "name": "python",
   "nbconvert_exporter": "python",
   "pygments_lexer": "ipython3",
   "version": "3.7.3"
  }
 },
 "nbformat": 4,
 "nbformat_minor": 4
}
